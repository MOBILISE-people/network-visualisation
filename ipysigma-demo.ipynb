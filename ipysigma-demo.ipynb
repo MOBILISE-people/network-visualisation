{
 "cells": [
  {
   "cell_type": "markdown",
   "id": "12e05ce7",
   "metadata": {},
   "source": [
    "# Visualising a networkx graph with ipysigma"
   ]
  },
  {
   "cell_type": "code",
   "execution_count": 1,
   "id": "c65b596a",
   "metadata": {},
   "outputs": [
    {
     "data": {
      "application/vnd.jupyter.widget-view+json": {
       "model_id": "fed19763084f4c0ca20f5696da86f410",
       "version_major": 2,
       "version_minor": 0
      },
      "text/plain": [
       "Sigma(nx.Graph with 34 nodes and 78 edges)"
      ]
     },
     "execution_count": 1,
     "metadata": {},
     "output_type": "execute_result"
    }
   ],
   "source": [
    "import networkx as nx\n",
    "from ipysigma import Sigma\n",
    "g=nx.karate_club_graph()\n",
    "Sigma(g)"
   ]
  }
 ],
 "metadata": {
  "kernelspec": {
   "display_name": "Python 3 (ipykernel)",
   "language": "python",
   "name": "python3"
  },
  "language_info": {
   "codemirror_mode": {
    "name": "ipython",
    "version": 3
   },
   "file_extension": ".py",
   "mimetype": "text/x-python",
   "name": "python",
   "nbconvert_exporter": "python",
   "pygments_lexer": "ipython3",
   "version": "3.10.4"
  }
 },
 "nbformat": 4,
 "nbformat_minor": 5
}
